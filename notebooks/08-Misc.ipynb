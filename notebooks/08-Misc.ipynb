{
 "cells": [
  {
   "cell_type": "markdown",
   "metadata": {},
   "source": [
    "# Tips & Tricks"
   ]
  },
  {
   "cell_type": "markdown",
   "metadata": {
    "collapsed": true
   },
   "source": [
    "## Quick Tips"
   ]
  },
  {
   "cell_type": "markdown",
   "metadata": {},
   "source": [
    "### Exceptions   (try...except)\n",
    "Exceptions are useful for doing proper error handling"
   ]
  },
  {
   "cell_type": "code",
   "execution_count": 2,
   "metadata": {
    "collapsed": false
   },
   "outputs": [],
   "source": [
    "# basic exception hanlding\n",
    "try:\n",
    "    # ... do something\n",
    "    pass\n",
    "except WhateverException as e:\n",
    "    # ... do the handling here\n",
    "    pass"
   ]
  },
  {
   "cell_type": "code",
   "execution_count": 3,
   "metadata": {
    "collapsed": true
   },
   "outputs": [],
   "source": [
    "# more \"verbose\" exception hanlding\n",
    "try:\n",
    "    # ... do something\n",
    "    pass\n",
    "except WhateverException as e:\n",
    "    # ... do the handling here\n",
    "    pass\n",
    "finally:\n",
    "    # ... code here is always executed\n",
    "    pass"
   ]
  },
  {
   "cell_type": "markdown",
   "metadata": {},
   "source": [
    "working example (see https://docs.python.org/2/tutorial/errors.html)"
   ]
  },
  {
   "cell_type": "code",
   "execution_count": 4,
   "metadata": {
    "collapsed": true
   },
   "outputs": [],
   "source": [
    "import sys\n",
    "\n",
    "try:\n",
    "    f = open('myfile.txt')\n",
    "    s = f.readline()\n",
    "    i = int(s.strip())\n",
    "except IOError as e:\n",
    "    print \"I/O error({0}): {1}\".format(e.errno, e.strerror)\n",
    "except ValueError:\n",
    "    print \"Could not convert data to an integer.\"\n",
    "except:\n",
    "    print \"Unexpected error:\", sys.exc_info()[0]\n",
    "    raise"
   ]
  },
  {
   "cell_type": "markdown",
   "metadata": {},
   "source": [
    "Never use the \"diaper\" design pattern ..."
   ]
  },
  {
   "cell_type": "code",
   "execution_count": 6,
   "metadata": {
    "collapsed": false
   },
   "outputs": [],
   "source": [
    "try:\n",
    "    f = open('adasdasd.foo', 'r')\n",
    "except:\n",
    "    pass"
   ]
  },
  {
   "cell_type": "markdown",
   "metadata": {},
   "source": [
    "execution continues silently and it would be horribly annoying to find what went wrong because no error message or warning will be displayed!!"
   ]
  },
  {
   "cell_type": "markdown",
   "metadata": {},
   "source": [
    "### lambda (inline functions)"
   ]
  },
  {
   "cell_type": "code",
   "execution_count": 54,
   "metadata": {
    "collapsed": false
   },
   "outputs": [
    {
     "name": "stdout",
     "output_type": "stream",
     "text": [
      "256\n"
     ]
    }
   ],
   "source": [
    "# doing it with a function\n",
    "def my_square(x):\n",
    "    return x**2\n",
    "print(my_square(16))"
   ]
  },
  {
   "cell_type": "code",
   "execution_count": 58,
   "metadata": {
    "collapsed": false
   },
   "outputs": [
    {
     "name": "stdout",
     "output_type": "stream",
     "text": [
      "256\n"
     ]
    }
   ],
   "source": [
    "# doing it with a lambda\n",
    "my_square = lambda x: x**2\n",
    "print(my_square(16))"
   ]
  },
  {
   "cell_type": "markdown",
   "metadata": {},
   "source": [
    "### pythonic \"loops\""
   ]
  },
  {
   "cell_type": "code",
   "execution_count": 1,
   "metadata": {
    "collapsed": false
   },
   "outputs": [
    {
     "name": "stdout",
     "output_type": "stream",
     "text": [
      "P\n",
      "Q\n",
      "R\n",
      "S\n",
      "T\n",
      "U\n",
      "V\n",
      "W\n",
      "X\n",
      "Y\n"
     ]
    }
   ],
   "source": [
    "for i in range(80, 90):\n",
    "    print(chr(i))"
   ]
  },
  {
   "cell_type": "code",
   "execution_count": 9,
   "metadata": {
    "collapsed": false
   },
   "outputs": [
    {
     "name": "stdout",
     "output_type": "stream",
     "text": [
      "P\n",
      "Q\n",
      "R\n",
      "S\n",
      "T\n",
      "U\n",
      "V\n",
      "W\n",
      "X\n",
      "Y\n"
     ]
    }
   ],
   "source": [
    "for character in map(chr, range(80, 90)):\n",
    "    print(character)"
   ]
  },
  {
   "cell_type": "code",
   "execution_count": 10,
   "metadata": {
    "collapsed": false
   },
   "outputs": [
    {
     "name": "stdout",
     "output_type": "stream",
     "text": [
      "    P    \n",
      "    Q    \n",
      "    R    \n",
      "    S    \n",
      "    T    \n",
      "    U    \n",
      "    V    \n",
      "    W    \n",
      "    X    \n",
      "    Y    \n"
     ]
    }
   ],
   "source": [
    "import subprocess\n",
    "import time\n",
    "import sys\n",
    "\n",
    "for char in map(chr, range(80, 90)):\n",
    "    print('   ', char, '   ')\n",
    "    sys.stdout.flush()\n",
    "    time.sleep(0.05)\n",
    "    subprocess.Popen(\"clear\").wait()"
   ]
  },
  {
   "cell_type": "code",
   "execution_count": 3,
   "metadata": {
    "collapsed": false
   },
   "outputs": [
    {
     "name": "stdout",
     "output_type": "stream",
     "text": [
      "    ÿ    \n"
     ]
    }
   ],
   "source": [
    "import subprocess\n",
    "import time\n",
    "import sys\n",
    "from IPython.display import clear_output\n",
    "\n",
    "for char in map(chr, range(128, 256)):\n",
    "    print('   ', char, '   ')\n",
    "    time.sleep(0.1)\n",
    "    clear_output(wait=0.1)"
   ]
  },
  {
   "cell_type": "markdown",
   "metadata": {},
   "source": [
    "### map"
   ]
  },
  {
   "cell_type": "code",
   "execution_count": 45,
   "metadata": {
    "collapsed": false
   },
   "outputs": [
    {
     "data": {
      "text/plain": [
       "'\\x00 \\x01 \\x02 \\x03 \\x04 \\x05 \\x06 \\x07 \\x08 \\t \\n \\x0b \\x0c \\r \\x0e \\x0f \\x10 \\x11 \\x12 \\x13 \\x14 \\x15 \\x16 \\x17 \\x18 \\x19 \\x1a \\x1b \\x1c \\x1d \\x1e \\x1f   ! \" # $ % & \\' ( ) * + , - . / 0 1 2 3 4 5 6 7 8 9 : ; < = > ? @ A B C D E F G H I J K L M N O P Q R S T U V W X Y Z [ \\\\ ] ^ _ ` a b c d e f g h i j k l m n o p q r s t u v w x y z { | } ~ \\x7f'"
      ]
     },
     "execution_count": 45,
     "metadata": {},
     "output_type": "execute_result"
    }
   ],
   "source": [
    "' '.join(map(chr, range(0, 128)))"
   ]
  },
  {
   "cell_type": "markdown",
   "metadata": {},
   "source": [
    "### filter"
   ]
  },
  {
   "cell_type": "code",
   "execution_count": 50,
   "metadata": {
    "collapsed": false
   },
   "outputs": [
    {
     "name": "stdout",
     "output_type": "stream",
     "text": [
      "[1, 2, 10]\n"
     ]
    }
   ],
   "source": [
    "x = [1, 2, 10, -1, -8]\n",
    "x_positive = []\n",
    "for element in x:\n",
    "    if element < 0:\n",
    "        pass\n",
    "    else:\n",
    "        x_positive.append(element)\n",
    "print(x_positive)"
   ]
  },
  {
   "cell_type": "markdown",
   "metadata": {},
   "source": [
    "#### more elegant implementation (with filter)"
   ]
  },
  {
   "cell_type": "code",
   "execution_count": 61,
   "metadata": {
    "collapsed": false
   },
   "outputs": [
    {
     "data": {
      "text/plain": [
       "[1, 2, 10]"
      ]
     },
     "execution_count": 61,
     "metadata": {},
     "output_type": "execute_result"
    }
   ],
   "source": [
    "list(filter(lambda element: element > 0, x))"
   ]
  },
  {
   "cell_type": "markdown",
   "metadata": {},
   "source": [
    "### reduce"
   ]
  },
  {
   "cell_type": "code",
   "execution_count": 78,
   "metadata": {
    "collapsed": false
   },
   "outputs": [
    {
     "name": "stdout",
     "output_type": "stream",
     "text": [
      "499500\n"
     ]
    }
   ],
   "source": [
    "x = range(1000)\n",
    "def calculate_sum1(array):\n",
    "    my_sum = 0\n",
    "    for element in array:\n",
    "        my_sum += element\n",
    "    return my_sum\n",
    "print(calculate_sum(x))"
   ]
  },
  {
   "cell_type": "code",
   "execution_count": 79,
   "metadata": {
    "collapsed": false
   },
   "outputs": [
    {
     "name": "stdout",
     "output_type": "stream",
     "text": [
      "499500\n"
     ]
    }
   ],
   "source": [
    "from functools import reduce\n",
    "def calculate_sum2(array):\n",
    "    return reduce(lambda x, y: x + y, array)\n",
    "print(calculate_sum2(x))"
   ]
  },
  {
   "cell_type": "markdown",
   "metadata": {},
   "source": [
    "which is faster ?"
   ]
  },
  {
   "cell_type": "code",
   "execution_count": 80,
   "metadata": {
    "collapsed": false
   },
   "outputs": [
    {
     "name": "stdout",
     "output_type": "stream",
     "text": [
      "10000 loops, best of 3: 131 µs per loop\n",
      "1000 loops, best of 3: 264 µs per loop\n"
     ]
    }
   ],
   "source": [
    "%timeit calculate_sum1(x)\n",
    "%timeit calculate_sum2(x) "
   ]
  },
  {
   "cell_type": "markdown",
   "metadata": {},
   "source": [
    "comparison to numpy"
   ]
  },
  {
   "cell_type": "code",
   "execution_count": 4,
   "metadata": {
    "collapsed": false
   },
   "outputs": [
    {
     "name": "stdout",
     "output_type": "stream",
     "text": [
      "The slowest run took 404.90 times longer than the fastest. This could mean that an intermediate result is being cached.\n",
      "100000 loops, best of 3: 10.9 µs per loop\n"
     ]
    }
   ],
   "source": [
    "import numpy\n",
    "x = numpy.arange(0, 10000)\n",
    "%timeit x.sum()"
   ]
  },
  {
   "cell_type": "code",
   "execution_count": 6,
   "metadata": {
    "collapsed": false
   },
   "outputs": [
    {
     "name": "stdout",
     "output_type": "stream",
     "text": [
      "CPU times: user 231 µs, sys: 708 µs, total: 939 µs\n",
      "Wall time: 808 µs\n"
     ]
    },
    {
     "data": {
      "text/plain": [
       "49995000"
      ]
     },
     "execution_count": 6,
     "metadata": {},
     "output_type": "execute_result"
    }
   ],
   "source": [
    "# for methods/function calls that take lots of time\n",
    "%time x.sum()"
   ]
  },
  {
   "cell_type": "markdown",
   "metadata": {
    "collapsed": true
   },
   "source": [
    "## Configuring IPython\n",
    "\n",
    "put this snippet at the bottom of:\n",
    "\n",
    "     ~/.ipython/profile_default/ipython_config.py\n",
    "\n",
    "and relaunch ipython. You have to do this once."
   ]
  },
  {
   "cell_type": "code",
   "execution_count": null,
   "metadata": {
    "collapsed": true
   },
   "outputs": [],
   "source": [
    "c.InteractiveShellApp.extensions = ['autoreload']\n",
    "c.InteractiveShellApp.exec_lines = ['%autoreload 2']\n",
    "c.InteractiveShellApp.exec_lines.append('print(\"\")')\n",
    "c.InteractiveShellApp.exec_lines.append('print(\"disable autoreload in ipython_config.py to improve performance.\")')\n",
    "c.InteractiveShellApp.exec_lines.append('print(\"finished loading.\")')"
   ]
  },
  {
   "cell_type": "markdown",
   "metadata": {
    "collapsed": true
   },
   "source": [
    "## Editors/IDEs"
   ]
  },
  {
   "cell_type": "markdown",
   "metadata": {},
   "source": [
    "- https://atom.io/   (free)\n",
    "- emacs              (free)\n",
    "- vim                (free)\n",
    "- pycharm            (half free)\n",
    "- sublime text       (half free)\n",
    "- eric python        (free)\n",
    "- sphinx             (free)\n",
    "- spyder             (free - matlab like)\n",
    "- eclipse + pydev    (free)"
   ]
  },
  {
   "cell_type": "markdown",
   "metadata": {
    "collapsed": true
   },
   "source": [
    "## debugging\n",
    "\n",
    "  - pdb\n",
    "  - ipdb\n",
    "  - pdb++\n",
    "  - just put asdasdasdasd\n",
    "  - breakpoints in the IDE (best way to go to find nasty bugs)"
   ]
  },
  {
   "cell_type": "markdown",
   "metadata": {
    "collapsed": true
   },
   "source": [
    "## profiling\n",
    "\n",
    "   - cProfile  (https://docs.python.org/2/library/profile.html)\n",
    "   - timeit    (ipython)\n",
    "   - pycharm   (gui based)\n",
    "   "
   ]
  },
  {
   "cell_type": "markdown",
   "metadata": {
    "collapsed": true
   },
   "source": [
    "## code coverage\n",
    "\n",
    "   - pip install coverage\n",
    "   - py.test plugin (coverage)"
   ]
  },
  {
   "cell_type": "markdown",
   "metadata": {
    "collapsed": true
   },
   "source": [
    "## extending python\n",
    "\n",
    "    - ctypes\n",
    "    - via numpy (f2py)\n",
    "    - swig\n",
    "    - cython\n",
    "    - numba\n",
    "    - pycuda\n",
    "    - ... many others"
   ]
  }
 ],
 "metadata": {
  "kernelspec": {
   "display_name": "Python 3",
   "language": "python",
   "name": "python3"
  },
  "language_info": {
   "codemirror_mode": {
    "name": "ipython",
    "version": 3
   },
   "file_extension": ".py",
   "mimetype": "text/x-python",
   "name": "python",
   "nbconvert_exporter": "python",
   "pygments_lexer": "ipython3",
   "version": "3.5.1"
  }
 },
 "nbformat": 4,
 "nbformat_minor": 0
}
