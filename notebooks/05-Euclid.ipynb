{
 "cells": [
  {
   "cell_type": "markdown",
   "metadata": {},
   "source": [
    "# Euclid Coding Standards\n",
    "\n",
    "\"The guidelines provided here are intended to improve the readability of code and make it consistent across the wide spectrum of Python code\" [PEP8](https://www.python.org/dev/peps/pep-0008/)\n",
    "\n",
    "Python PEPs are \"Python Enhancement Proposal\". The PEP for the conding standard adopted by the Python Software foundation (PSF) is the PEP8.\n",
    "\n",
    "There are also other coding standards specific to organizations and/or projects, e.g:\n",
    "\n",
    "   - Google's python coding style: https://google.github.io/styleguide/pyguide.html\n",
    "   - Euclid's Python coding standard can be found [here](http://euclid.roe.ac.uk/projects/codeen-users/wiki/User_Cod_Std-pythonstandard-v1-0)\n"
   ]
  },
  {
   "cell_type": "code",
   "execution_count": null,
   "metadata": {
    "collapsed": true
   },
   "outputs": [],
   "source": []
  }
 ],
 "metadata": {
  "kernelspec": {
   "display_name": "Python 3",
   "language": "python",
   "name": "python3"
  },
  "language_info": {
   "codemirror_mode": {
    "name": "ipython",
    "version": 3
   },
   "file_extension": ".py",
   "mimetype": "text/x-python",
   "name": "python",
   "nbconvert_exporter": "python",
   "pygments_lexer": "ipython3",
   "version": "3.5.0"
  }
 },
 "nbformat": 4,
 "nbformat_minor": 0
}
