{
 "cells": [
  {
   "cell_type": "markdown",
   "metadata": {},
   "source": [
    "# Plotting\n",
    "\n",
    "There are several plotting modules in python. Matplolib is the most complete/versatile package for all 2D plotting. The easiest way to construct a new plot is to have a look at http://matplotlib.org/gallery.html and get inspiration from the available examples. The official documentation can be found at: http://matplotlib.org/contents.html\n",
    "\n",
    " - [Quick plots, or Matplotlib dirty usage](#Quick-plots,-or-Matplotlib-dirty-usage)\n",
    " - [Proper use of Matplotlib](#Proper-use-of-Matplotlib)\n",
    " - [Subplots](#Subplots)\n",
    " - [Images and contours](#Images-and-contours)\n",
    " - [Animation](#Animation)\n",
    " - [Styles](#Styles)\n",
    " - [D3](#D3)\n",
    " - [Other honerable mentions](#Other-honerable-mentions)"
   ]
  },
  {
   "cell_type": "markdown",
   "metadata": {},
   "source": [
    "## Quick plots, or Matplotlib dirty usage"
   ]
  },
  {
   "cell_type": "code",
   "execution_count": null,
   "metadata": {
    "collapsed": false
   },
   "outputs": [],
   "source": [
    "%matplotlib\n",
    "\n",
    "import numpy as np\n",
    "import matplotlib.pyplot as plt\n",
    "\n",
    "# To get interactive plotting (otherwise you need to \n",
    "# type plt.show() at the end of the plotting commands)\n",
    "plt.ion() \n",
    "\n",
    "x = np.linspace(0, 10)\n",
    "y = np.sin(x)\n",
    "\n",
    "# basic X/Y line plotting with '--' dashed line and linewidth of 2\n",
    "plt.plot(x, y, '--', label='first line')\n",
    "\n",
    "# overplot a dotted line on the previous plot\n",
    "plt.plot(x, np.cos(x)*np.cos(x/2), '.', linewidth=3, label='other') \n",
    "\n",
    "x_axis_label = plt.xlabel('x axis') #change the label of the xaxis"
   ]
  },
  {
   "cell_type": "code",
   "execution_count": null,
   "metadata": {
    "collapsed": false
   },
   "outputs": [],
   "source": [
    "# change your mind about the label : you do not need to replot everything !\n",
    "plt.xlabel('another x axis')"
   ]
  },
  {
   "cell_type": "code",
   "execution_count": null,
   "metadata": {
    "collapsed": false
   },
   "outputs": [],
   "source": [
    "# or you can use the re-tuned object\n",
    "x_axis_label.set_text('changed it from the object itself')"
   ]
  },
  {
   "cell_type": "code",
   "execution_count": null,
   "metadata": {
    "collapsed": true
   },
   "outputs": [],
   "source": [
    "# simply add the legend (from the previous label)\n",
    "legend = plt.legend()        "
   ]
  },
  {
   "cell_type": "code",
   "execution_count": null,
   "metadata": {
    "collapsed": false
   },
   "outputs": [],
   "source": [
    "plt.savefig('plot.png') # save the current figure in png\n",
    "plt.savefig('plot.eps') # save the current figure in ps, no need to redo it !"
   ]
  },
  {
   "cell_type": "code",
   "execution_count": null,
   "metadata": {
    "collapsed": false
   },
   "outputs": [],
   "source": [
    "!ls"
   ]
  },
  {
   "cell_type": "markdown",
   "metadata": {},
   "source": [
    "## Proper use of Matplotlib"
   ]
  },
  {
   "cell_type": "markdown",
   "metadata": {},
   "source": [
    "We will use interactive plots inline in the notebook. This feature is enabled through:"
   ]
  },
  {
   "cell_type": "code",
   "execution_count": null,
   "metadata": {
    "collapsed": false
   },
   "outputs": [],
   "source": [
    "%matplotlib"
   ]
  },
  {
   "cell_type": "code",
   "execution_count": null,
   "metadata": {
    "collapsed": false
   },
   "outputs": [],
   "source": [
    "import matplotlib.pyplot as plt\n",
    "import numpy as np\n",
    "\n",
    "# define a figure which can contains several plots, you can define resolution and so on here...\n",
    "fig2 = plt.figure()\n",
    "\n",
    "# add one axis, axes are actual plots where you can put data.fits (nx, ny, index)\n",
    "ax = fig2.add_subplot(1, 1, 1)"
   ]
  },
  {
   "cell_type": "markdown",
   "metadata": {},
   "source": [
    "Add a cruve with a title to the plot"
   ]
  },
  {
   "cell_type": "code",
   "execution_count": null,
   "metadata": {
    "collapsed": false
   },
   "outputs": [],
   "source": [
    "x = np.linspace(0, 2*np.pi)\n",
    "ax.plot(x, np.sin(x), '+')\n",
    "ax.set_title('this title')\n",
    "plt.show()"
   ]
  },
  {
   "cell_type": "code",
   "execution_count": null,
   "metadata": {
    "collapsed": false,
    "scrolled": true
   },
   "outputs": [],
   "source": [
    "# is a simpler syntax to add one axis into the figure (we will stick to this)\n",
    "fig, ax = plt.subplots()\n",
    "ax.plot(x, np.sin(x), '+')\n",
    "ax.set_title('simple subplot')"
   ]
  },
  {
   "cell_type": "markdown",
   "metadata": {},
   "source": [
    "A long list of markers can be found at http://matplotlib.org/api/markers_api.html\n",
    "as for the colors, there is a nice discussion at http://stackoverflow.com/questions/22408237/named-colors-in-matplotlib"
   ]
  },
  {
   "cell_type": "markdown",
   "metadata": {},
   "source": [
    "All the components of a figure can be accessed throught the 'Figure' object"
   ]
  },
  {
   "cell_type": "code",
   "execution_count": null,
   "metadata": {
    "collapsed": false
   },
   "outputs": [],
   "source": [
    "print(type(fig))"
   ]
  },
  {
   "cell_type": "code",
   "execution_count": null,
   "metadata": {
    "collapsed": true
   },
   "outputs": [],
   "source": [
    "print(dir(fig))"
   ]
  },
  {
   "cell_type": "code",
   "execution_count": null,
   "metadata": {
    "collapsed": false
   },
   "outputs": [],
   "source": [
    "print(fig.axes)"
   ]
  },
  {
   "cell_type": "code",
   "execution_count": null,
   "metadata": {
    "collapsed": false
   },
   "outputs": [],
   "source": [
    "print('This is the x-axis object', fig.axes[0].xaxis)\n",
    "print('And this is the y-axis object', fig.axes[0].yaxis)"
   ]
  },
  {
   "cell_type": "code",
   "execution_count": null,
   "metadata": {
    "collapsed": false
   },
   "outputs": [],
   "source": [
    "# arrow pointing to the origin of the axes\n",
    "ax_arrow = ax.annotate('ax = fig.axes[0]',\n",
    "                       xy=(0, -1),              # tip of the arrow\n",
    "                       xytext=(1, -0.5),         # location of the text\n",
    "                       arrowprops={'facecolor':'red', 'shrink':0.05})\n",
    "\n",
    "# arrow pointing to the x axis\n",
    "x_ax_arrow = ax.annotate('ax.xaxis',\n",
    "                         xy=(3, -1),              # tip of the arrow\n",
    "                         xytext=(3, -0.5),         # location of the text\n",
    "                         arrowprops={'facecolor':'red', 'shrink':0.05})\n",
    "xax = ax.xaxis\n",
    "\n",
    "# arrow pointing to the y axis\n",
    "y_ax_arrow = ax.annotate('ax.yaxis',\n",
    "                         xy=(0, 0),              # tip of the arrow\n",
    "                         xytext=(1, 0.5),         # location of the text\n",
    "                         arrowprops={'facecolor':'red', 'shrink':0.05})\n"
   ]
  },
  {
   "cell_type": "markdown",
   "metadata": {},
   "source": [
    "Add a labels to the x and y axes"
   ]
  },
  {
   "cell_type": "code",
   "execution_count": null,
   "metadata": {
    "collapsed": false
   },
   "outputs": [],
   "source": [
    "# add some ascii text label\n",
    "# this is equivelant to:\n",
    "#     ax.set_xlabel('x')\n",
    "xax.set_label_text('x')\n",
    "\n",
    "# add latex rendered text to the y axis\n",
    "ax.set_ylabel('$sin(x)$', size=20, color='g', rotation=0)"
   ]
  },
  {
   "cell_type": "markdown",
   "metadata": {},
   "source": [
    "Finally dump the figure to a png file"
   ]
  },
  {
   "cell_type": "code",
   "execution_count": null,
   "metadata": {
    "collapsed": false
   },
   "outputs": [],
   "source": [
    "fig.savefig('myplot.png')\n",
    "\n",
    "!ls\n",
    "!eog myplot.png"
   ]
  },
  {
   "cell_type": "markdown",
   "metadata": {},
   "source": [
    "Lets define a function that creates an empty base plot to which we will add\n",
    "stuff for each demonstration. The function returns the figure and the axes object."
   ]
  },
  {
   "cell_type": "code",
   "execution_count": null,
   "metadata": {
    "collapsed": true
   },
   "outputs": [],
   "source": [
    "from matplotlib import pyplot as plt\n",
    "import numpy as np\n",
    "\n",
    "def create_base_plot():\n",
    "    fig, ax = plt.subplots()\n",
    "    ax.set_title('sample figure')\n",
    "    return fig, ax\n",
    "\n",
    "def plot_something():\n",
    "    fig, ax = create_base_plot()\n",
    "    x = np.linspace(0, 2*np.pi)\n",
    "    ax.semilogx(x, np.cos(x)*np.cos(x/2), 'r--.')\n",
    "    plt.show()"
   ]
  },
  {
   "cell_type": "markdown",
   "metadata": {},
   "source": [
    "## Log plots"
   ]
  },
  {
   "cell_type": "code",
   "execution_count": null,
   "metadata": {
    "collapsed": false
   },
   "outputs": [],
   "source": [
    "fig, ax = create_base_plot()\n",
    "\n",
    "# normal-xlog plots\n",
    "ax.semilogx(x, np.cos(x)*np.cos(x/2), 'r--.')"
   ]
  },
  {
   "cell_type": "code",
   "execution_count": null,
   "metadata": {
    "collapsed": false
   },
   "outputs": [],
   "source": [
    "# clear the plot and plot a function using the y axis in log scale\n",
    "ax.clear()\n",
    "ax.semilogy(x, np.exp(x))"
   ]
  },
  {
   "cell_type": "code",
   "execution_count": null,
   "metadata": {
    "collapsed": false
   },
   "outputs": [],
   "source": [
    "# you can (un)set it, whenever you want\n",
    "#ax.set_yscale('linear')   # change they y axis to linear scale\n",
    "#ax.set_yscale('log')      # change the y axis to log scale"
   ]
  },
  {
   "cell_type": "code",
   "execution_count": null,
   "metadata": {
    "collapsed": false
   },
   "outputs": [],
   "source": [
    "# you can also make loglog plots\n",
    "#ax.clear()\n",
    "#ax.loglog(x, np.exp(x)*np.sin(x))\n",
    "plt.setp(ax, **dict(yscale='log', xscale='log'))"
   ]
  },
  {
   "cell_type": "markdown",
   "metadata": {},
   "source": [
    "This is equivelant to:\n",
    "\n",
    "    ax.plot(x, np.exp(x)*np.sin(x))\n",
    "    plt.setp(ax, 'yscale', 'log', 'xscale', 'log')"
   ]
  },
  {
   "cell_type": "markdown",
   "metadata": {},
   "source": [
    "here we have introduced a new method of setting property values via **pyplot.setp**.\n",
    "\n",
    "setp takes as first argument a matplotlib object. Each pair of positional argument\n",
    "after that is treated as a key value pair for the set method name and its value. For\n",
    "example:\n",
    "\n",
    "   ax.set_scale('linear')\n",
    "   \n",
    "becomes\n",
    "\n",
    "   plt.setp(ax, 'scale', 'linear')\n",
    "   \n",
    "This is useful if you need to set lots of properties, such as:"
   ]
  },
  {
   "cell_type": "code",
   "execution_count": null,
   "metadata": {
    "collapsed": false
   },
   "outputs": [],
   "source": [
    "plt.setp(ax, 'xscale', 'linear', 'xlim', [1, 5], 'ylim', [0.1, 10], 'xlabel', 'x',\n",
    "         'ylabel', 'y', 'title', 'foo',\n",
    "         'xticks', [1, 2, 3, 4, 5],\n",
    "         'yticks', [0.1, 1, 10],\n",
    "         'yticklabels', ['low', 'medium', 'high'])"
   ]
  },
  {
   "cell_type": "markdown",
   "metadata": {},
   "source": [
    "## Histograms"
   ]
  },
  {
   "cell_type": "code",
   "execution_count": null,
   "metadata": {
    "collapsed": false
   },
   "outputs": [],
   "source": [
    "fig1, ax = create_base_plot()\n",
    "n, bins, patches = ax.hist(np.random.normal(0, 0.1, 10000), bins=50)"
   ]
  },
  {
   "cell_type": "markdown",
   "metadata": {},
   "source": [
    "## Subplots"
   ]
  },
  {
   "cell_type": "markdown",
   "metadata": {},
   "source": [
    "Making subplots is relatively easy. Just pass the shape of the grid of plots to plt.subplots() that was used in the above examples."
   ]
  },
  {
   "cell_type": "code",
   "execution_count": null,
   "metadata": {
    "collapsed": false
   },
   "outputs": [],
   "source": [
    "# Create one figure with two plots/axes, with their xaxis shared\n",
    "fig, (ax1, ax2) = plt.subplots(2, sharex=True)\n",
    "ax1.plot(x, np.sin(x), '-.', color='r', label='first line')\n",
    "other = ax2.plot(x, np.cos(x)*np.cos(x/2), 'o-', linewidth=3, label='other')\n",
    "ax1.legend()\n",
    "ax2.legend()"
   ]
  },
  {
   "cell_type": "code",
   "execution_count": null,
   "metadata": {
    "collapsed": false
   },
   "outputs": [],
   "source": [
    "# adjust the spacing between the axes\n",
    "fig.subplots_adjust(hspace=0.0)"
   ]
  },
  {
   "cell_type": "code",
   "execution_count": null,
   "metadata": {
    "collapsed": false
   },
   "outputs": [],
   "source": [
    "# add a scatter plot to the first axis\n",
    "ax1.scatter(x, np.sin(x)+np.random.normal(0, 0.1, np.size(x)))"
   ]
  },
  {
   "cell_type": "markdown",
   "metadata": {},
   "source": [
    "create a 3x3 grid of plots"
   ]
  },
  {
   "cell_type": "code",
   "execution_count": null,
   "metadata": {
    "collapsed": false
   },
   "outputs": [],
   "source": [
    "fig, axs = plt.subplots(3, 3)"
   ]
  },
  {
   "cell_type": "code",
   "execution_count": null,
   "metadata": {
    "collapsed": false
   },
   "outputs": [],
   "source": [
    "print(axs.shape)"
   ]
  },
  {
   "cell_type": "code",
   "execution_count": null,
   "metadata": {
    "collapsed": true
   },
   "outputs": [],
   "source": [
    "# add an index to all the subplots\n",
    "for ax_index, ax in enumerate(axs.flatten()):\n",
    "    ax.set_title(ax_index)"
   ]
  },
  {
   "cell_type": "code",
   "execution_count": null,
   "metadata": {
    "collapsed": false
   },
   "outputs": [],
   "source": [
    "# remove all ticks\n",
    "for ax in axs.flatten():\n",
    "    plt.setp(ax, 'xticks', [], 'yticks', [])"
   ]
  },
  {
   "cell_type": "code",
   "execution_count": null,
   "metadata": {
    "collapsed": false
   },
   "outputs": [],
   "source": [
    "fig.subplots_adjust(hspace=0, wspace=0)"
   ]
  },
  {
   "cell_type": "code",
   "execution_count": null,
   "metadata": {
    "collapsed": false
   },
   "outputs": [],
   "source": [
    "# plot a curve in the diagonal subplots\n",
    "for ax, func in zip(axs.diagonal(), [np.sin, np.cos, np.exp]):\n",
    "    ax.plot(x, func(x))"
   ]
  },
  {
   "cell_type": "markdown",
   "metadata": {},
   "source": [
    "## Images and contours"
   ]
  },
  {
   "cell_type": "code",
   "execution_count": null,
   "metadata": {
    "collapsed": false
   },
   "outputs": [],
   "source": [
    "xx, yy = np.mgrid[-2:2:100j, -2:2:100j]\n",
    "img = np.sin(xx) + np.cos(yy)"
   ]
  },
  {
   "cell_type": "code",
   "execution_count": null,
   "metadata": {
    "collapsed": false
   },
   "outputs": [],
   "source": [
    "fig, ax = create_base_plot()"
   ]
  },
  {
   "cell_type": "code",
   "execution_count": null,
   "metadata": {
    "collapsed": true
   },
   "outputs": [],
   "source": [
    "# to have 0,0 in the lower left corner and no interpolation\n",
    "img_plot = ax.imshow(img, origin='lower', interpolation='None')\n",
    "# to add a grid to any axis\n",
    "ax.grid()                                "
   ]
  },
  {
   "cell_type": "code",
   "execution_count": null,
   "metadata": {
    "collapsed": false
   },
   "outputs": [],
   "source": [
    "img_plot.set_cmap('hot')  # changing the colormap"
   ]
  },
  {
   "cell_type": "code",
   "execution_count": null,
   "metadata": {
    "collapsed": false
   },
   "outputs": [],
   "source": [
    "img_plot.set_cmap('spectral')      # changing the colormap\n",
    "colorb = fig.colorbar(img_plot)    # adding a color bar"
   ]
  },
  {
   "cell_type": "code",
   "execution_count": null,
   "metadata": {
    "collapsed": false
   },
   "outputs": [],
   "source": [
    "img_plot.set_clim(-0.5, 0.5)        # changing the dynamical range"
   ]
  },
  {
   "cell_type": "code",
   "execution_count": null,
   "metadata": {
    "collapsed": false
   },
   "outputs": [],
   "source": [
    "# add contour levels\n",
    "img_contours = ax.contour(img, [-1, -0.5, 0.0, 0.5])\n",
    "plt.clabel(img_contours, inline=True, fontsize=20)"
   ]
  },
  {
   "cell_type": "markdown",
   "metadata": {},
   "source": [
    "## Animation"
   ]
  },
  {
   "cell_type": "code",
   "execution_count": null,
   "metadata": {
    "collapsed": false
   },
   "outputs": [],
   "source": [
    "from IPython.display import HTML\n",
    "import matplotlib.animation as animation\n",
    "\n",
    "def f(x, y):\n",
    "    return np.sin(x) + np.cos(y)\n",
    "\n",
    "fig, ax = create_base_plot()\n",
    "im = ax.imshow(f(xx, yy), cmap=plt.get_cmap('viridis'))\n",
    "\n",
    "def updatefig(*args):\n",
    "    global xx, yy\n",
    "    xx += np.pi / 15.\n",
    "    yy += np.pi / 20.\n",
    "    im.set_array(f(xx, yy))\n",
    "    return im,\n",
    "\n",
    "ani = animation.FuncAnimation(fig, updatefig, interval=50, blit=True)\n",
    "_ = ani.to_html5_video()"
   ]
  },
  {
   "cell_type": "code",
   "execution_count": null,
   "metadata": {
    "collapsed": false
   },
   "outputs": [],
   "source": [
    "# change title during animation!!\n",
    "ax.set_title('runtime title')"
   ]
  },
  {
   "cell_type": "markdown",
   "metadata": {},
   "source": [
    "## Styles"
   ]
  },
  {
   "cell_type": "markdown",
   "metadata": {},
   "source": [
    "Configuring `matplotlib`\n",
    "========================\n",
    "\n",
    "Most of the `matplotlib` code chunk that are written are usually about styling and not actual plotting. \n",
    "One feature that might be of great help if you are in this case is to use the `matplotlib.style` module.\n",
    "\n",
    "In this notebook, we will go through the available [matplotlib styles](#Pre-configured-style-files) and their corresponding [configuration files](#Content-of-the-style-files). Then we will explain the [two ways](#use-versus-context) of using the styles and finally show you how to write a [personalized style](#Custom-style-file).\n",
    "\n",
    "---"
   ]
  },
  {
   "cell_type": "markdown",
   "metadata": {},
   "source": [
    "### Pre-configured style files"
   ]
  },
  {
   "cell_type": "markdown",
   "metadata": {},
   "source": [
    "An `available` variable returns a list of the names of some pre-configured matplotlib style files."
   ]
  },
  {
   "cell_type": "code",
   "execution_count": null,
   "metadata": {
    "collapsed": false
   },
   "outputs": [],
   "source": [
    "print('\\n'.join(plt.style.available))"
   ]
  },
  {
   "cell_type": "code",
   "execution_count": null,
   "metadata": {
    "collapsed": true
   },
   "outputs": [],
   "source": [
    "x = np.arange(0, 10, 0.01)\n",
    "\n",
    "def f(x, t):\n",
    "    return np.sin(x) * np.exp(1 - x / 10 + t / 2)\n",
    "\n",
    "def simple_plot(style):\n",
    "    plt.figure()\n",
    "    with plt.style.context(style, after_reset=True):\n",
    "        for t in range(5):\n",
    "            plt.plot(x, f(x, t))\n",
    "        plt.title('Simple plot')"
   ]
  },
  {
   "cell_type": "code",
   "execution_count": null,
   "metadata": {
    "collapsed": false
   },
   "outputs": [],
   "source": [
    "simple_plot('ggplot')"
   ]
  },
  {
   "cell_type": "code",
   "execution_count": null,
   "metadata": {
    "collapsed": false
   },
   "outputs": [],
   "source": [
    "simple_plot('dark_background')"
   ]
  },
  {
   "cell_type": "code",
   "execution_count": null,
   "metadata": {
    "collapsed": false
   },
   "outputs": [],
   "source": [
    "simple_plot('grayscale')"
   ]
  },
  {
   "cell_type": "code",
   "execution_count": null,
   "metadata": {
    "collapsed": false
   },
   "outputs": [],
   "source": [
    "simple_plot('fivethirtyeight')"
   ]
  },
  {
   "cell_type": "code",
   "execution_count": null,
   "metadata": {
    "collapsed": false
   },
   "outputs": [],
   "source": [
    "simple_plot('bmh')"
   ]
  },
  {
   "cell_type": "markdown",
   "metadata": {},
   "source": [
    "### Content of the style files"
   ]
  },
  {
   "cell_type": "markdown",
   "metadata": {},
   "source": [
    "A matplotlib style file is a simple text file containing the desired matplotlib `rcParam` configuration, with the `.mplstyle` extension."
   ]
  },
  {
   "cell_type": "markdown",
   "metadata": {},
   "source": [
    "Let's display the content of the 'ggplot' style."
   ]
  },
  {
   "cell_type": "code",
   "execution_count": null,
   "metadata": {
    "collapsed": true
   },
   "outputs": [],
   "source": [
    "import os\n",
    "ggplotfile = os.path.join(plt.style.core.BASE_LIBRARY_PATH, 'ggplot.mplstyle')"
   ]
  },
  {
   "cell_type": "code",
   "execution_count": null,
   "metadata": {
    "collapsed": false
   },
   "outputs": [],
   "source": [
    "!cat $ggplotfile"
   ]
  },
  {
   "cell_type": "markdown",
   "metadata": {},
   "source": [
    "Maybe the most interesting feature of this style file is the redefinition of the color cycle using hexadecimal notation. This allows the user to define is own color palette for its multi-line plots."
   ]
  },
  {
   "cell_type": "markdown",
   "metadata": {},
   "source": [
    "### use versus context"
   ]
  },
  {
   "cell_type": "markdown",
   "metadata": {},
   "source": [
    "There are two ways of using the `matplotlib` styles.\n",
    "\n",
    "1. `plt.style.use(style)`\n",
    "2. `plt.style.context(style):`\n",
    "\n",
    "The `use` method applied at the beginning of a script will be the default choice in most cases when the style is to be set for the entire script. The only issue is that it sets the matplotlib style for the given Python session, meaning that a second call to `use` with a different style will only apply new style parameters and not reset the first style. That is if the `axes.grid` is set to `True` by the first style and there is nothing concerning the grid in the second style config, the grid will remain set to `True` which is not `matplotlib` default.\n",
    "\n",
    "On the contrary, the `context` method will be useful when only one or two figures are to be set to a given style. It shall be used with the `with` statement to create a context manager in which the plot will be made.\n",
    "\n",
    "Let's illustrate this."
   ]
  },
  {
   "cell_type": "code",
   "execution_count": null,
   "metadata": {
    "collapsed": false
   },
   "outputs": [],
   "source": [
    "plt.style.use('ggplot')\n",
    "\n",
    "plt.figure()\n",
    "plt.plot(x, f(x, 0))"
   ]
  },
  {
   "cell_type": "markdown",
   "metadata": {},
   "source": [
    "The 'ggplot' style has been applied to the current session. One of its features that differs from standard `matplotlib` configuration is to put the ticks outside the main figure (`axes.axisbelow: True`)"
   ]
  },
  {
   "cell_type": "code",
   "execution_count": null,
   "metadata": {
    "collapsed": false
   },
   "outputs": [],
   "source": [
    "with plt.style.context('dark_background'):\n",
    "    plt.figure()\n",
    "    plt.plot(x, f(x, 1))\n"
   ]
  },
  {
   "cell_type": "markdown",
   "metadata": {},
   "source": [
    "Now using the 'dark_background' style as a context, we can spot the main changes (background, line color, axis color) and we can also see the outside ticks, although they are not part of this particular style. This is the 'ggplot' axes.axisbelow setup that has not been overwritten by the new style.\n",
    "Once the with block has ended, the style goes back to its previous status, that is the 'ggplot' style."
   ]
  },
  {
   "cell_type": "code",
   "execution_count": null,
   "metadata": {
    "collapsed": false
   },
   "outputs": [],
   "source": [
    "plt.figure()\n",
    "plt.plot(x, f(x, 2))"
   ]
  },
  {
   "cell_type": "markdown",
   "metadata": {},
   "source": [
    "### Custom style file"
   ]
  },
  {
   "cell_type": "markdown",
   "metadata": {},
   "source": [
    "Starting from these configured files, it is easy to now create our own styles for textbook figures and talk figures and switch from one to another in a single code line `plt.style.use('mystyle')` at the beginning of the plotting script."
   ]
  },
  {
   "cell_type": "markdown",
   "metadata": {},
   "source": [
    "#### Where to create it ?"
   ]
  },
  {
   "cell_type": "markdown",
   "metadata": {},
   "source": [
    "`matplotlib` will look for the user style files at the following path :"
   ]
  },
  {
   "cell_type": "code",
   "execution_count": null,
   "metadata": {
    "collapsed": false
   },
   "outputs": [],
   "source": [
    "print(plt.style.core.USER_LIBRARY_PATHS)"
   ]
  },
  {
   "cell_type": "markdown",
   "metadata": {},
   "source": [
    "**Note:** The directory corresponding to this path will most probably not exist so one will need to create it."
   ]
  },
  {
   "cell_type": "code",
   "execution_count": null,
   "metadata": {
    "collapsed": true
   },
   "outputs": [],
   "source": [
    "styledir = plt.style.core.USER_LIBRARY_PATHS[0]\n",
    "\n",
    "!mkdir -p $styledir"
   ]
  },
  {
   "cell_type": "markdown",
   "metadata": {},
   "source": [
    "One can now copy an existing style file to serve as a boilerplate."
   ]
  },
  {
   "cell_type": "code",
   "execution_count": null,
   "metadata": {
    "collapsed": true
   },
   "outputs": [],
   "source": [
    "mystylefile = os.path.join(styledir, 'mystyle.mplstyle')\n",
    "\n",
    "!cp $ggplotfile $mystylefile"
   ]
  },
  {
   "cell_type": "code",
   "execution_count": null,
   "metadata": {
    "collapsed": true
   },
   "outputs": [],
   "source": [
    "!cd $styledir"
   ]
  },
  {
   "cell_type": "code",
   "execution_count": null,
   "metadata": {
    "collapsed": false
   },
   "outputs": [],
   "source": [
    "%%file mystyle.mplstyle\n",
    "\n",
    "font.size: 16.0   # large font\n",
    "\n",
    "axes.linewidth: 2\n",
    "axes.grid: True \n",
    "axes.titlesize: x-large\n",
    "axes.labelsize: x-large\n",
    "axes.labelcolor: 555555\n",
    "axes.axisbelow: True   \n",
    "    \n",
    "xtick.color: 555555\n",
    "xtick.direction: out\n",
    "\n",
    "ytick.color: 555555\n",
    "ytick.direction: out\n",
    "    \n",
    "grid.color: white\n",
    "grid.linestyle: :    # dotted line"
   ]
  },
  {
   "cell_type": "markdown",
   "metadata": {},
   "source": [
    "## D3"
   ]
  },
  {
   "cell_type": "code",
   "execution_count": null,
   "metadata": {
    "collapsed": false
   },
   "outputs": [],
   "source": [
    "%matplotlib inline\n",
    "import matplotlib.pyplot as plt\n",
    "import numpy as np\n",
    "import mpld3\n",
    "mpld3.enable_notebook()\n",
    "\n",
    "# Scatter points\n",
    "fig, ax = plt.subplots(subplot_kw=dict(axisbg='#EEEEEE'))\n",
    "ax.grid(color='white', linestyle='solid')\n",
    "\n",
    "N = 50\n",
    "scatter = ax.scatter(np.random.normal(size=N),\n",
    "                     np.random.normal(size=N),\n",
    "                     c=np.random.random(size=N),\n",
    "                     s = 1000 * np.random.random(size=N),\n",
    "                     alpha=0.3,\n",
    "                     cmap=plt.cm.jet)\n",
    "\n",
    "ax.set_title(\"D3 Scatter Plot\", size=18);\n"
   ]
  },
  {
   "cell_type": "code",
   "execution_count": null,
   "metadata": {
    "collapsed": false
   },
   "outputs": [],
   "source": [
    "import mpld3\n",
    "mpld3.display(fig)"
   ]
  },
  {
   "cell_type": "code",
   "execution_count": null,
   "metadata": {
    "collapsed": false
   },
   "outputs": [],
   "source": [
    "from mpld3 import plugins\n",
    "\n",
    "fig, ax = plt.subplots(subplot_kw=dict(axisbg='#EEEEEE'))\n",
    "ax.grid(color='white', linestyle='solid')\n",
    "\n",
    "N = 50\n",
    "scatter = ax.scatter(np.random.normal(size=N),\n",
    "                     np.random.normal(size=N),\n",
    "                     c=np.random.random(size=N),\n",
    "                     s = 1000 * np.random.random(size=N),\n",
    "                     alpha=0.3,\n",
    "                     cmap=plt.cm.jet)\n",
    "\n",
    "ax.set_title(\"D3 Scatter Plot (with tooltips!)\", size=20)\n",
    "\n",
    "labels = ['point {0}'.format(i + 1) for i in range(N)]\n",
    "fig.plugins = [plugins.PointLabelTooltip(scatter, labels)]"
   ]
  },
  {
   "cell_type": "markdown",
   "metadata": {},
   "source": [
    "## Seaborn"
   ]
  },
  {
   "cell_type": "code",
   "execution_count": null,
   "metadata": {
    "collapsed": false
   },
   "outputs": [],
   "source": [
    "%matplotlib"
   ]
  },
  {
   "cell_type": "code",
   "execution_count": null,
   "metadata": {
    "collapsed": false
   },
   "outputs": [],
   "source": [
    "plot_something()"
   ]
  },
  {
   "cell_type": "code",
   "execution_count": null,
   "metadata": {
    "collapsed": false
   },
   "outputs": [],
   "source": [
    "import seaborn\n",
    "plot_something()"
   ]
  },
  {
   "cell_type": "markdown",
   "metadata": {},
   "source": [
    " - source: https://github.com/mwaskom/seaborn\n",
    " - tutorial: https://www.youtube.com/watch?v=E8OQAdQlljE"
   ]
  },
  {
   "cell_type": "markdown",
   "metadata": {},
   "source": [
    "## Other honerable mentions\n",
    "   \n",
    "   - Mayavi: http://code.enthought.com/projects/mayavi/\n",
    "   - plotly: https://plot.ly/\n",
    "   - bokeh: http://bokeh.pydata.org/en/latest/\n",
    "   - pygal: http://www.pygal.org/en/latest/"
   ]
  }
 ],
 "metadata": {
  "kernelspec": {
   "display_name": "Python 3",
   "language": "python",
   "name": "python3"
  },
  "language_info": {
   "codemirror_mode": {
    "name": "ipython",
    "version": 3
   },
   "file_extension": ".py",
   "mimetype": "text/x-python",
   "name": "python",
   "nbconvert_exporter": "python",
   "pygments_lexer": "ipython3",
   "version": "3.5.1"
  }
 },
 "nbformat": 4,
 "nbformat_minor": 0
}
