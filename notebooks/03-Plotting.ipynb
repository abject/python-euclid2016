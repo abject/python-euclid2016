{
 "cells": [
  {
   "cell_type": "markdown",
   "metadata": {},
   "source": [
    "# Plotting\n",
    "\n",
    "There are several plotting modules in python. Matplolib is the most complete/versatile package for all 2D plotting. The easiest way to construct a new plot is to have a look at http://matplotlib.org/gallery.html and get inspiration from the available examples. The official documentation can be found at: http://matplotlib.org/contents.html"
   ]
  },
  {
   "cell_type": "markdown",
   "metadata": {},
   "source": [
    "## Quick plots, or Matplotlib dirty usage"
   ]
  },
  {
   "cell_type": "code",
   "execution_count": null,
   "metadata": {
    "collapsed": false
   },
   "outputs": [],
   "source": [
    "%matplotlib\n",
    "\n",
    "import numpy as np\n",
    "import matplotlib.pyplot as plt\n",
    "\n",
    "# To get interactive plotting (otherwise you need to \n",
    "# type plt.show() at the end of the plotting commands)\n",
    "plt.ion() \n",
    "\n",
    "x = np.linspace(0, 10)\n",
    "y = np.sin(x)\n",
    "\n",
    "# basic X/Y line plotting with '--' dashed line and linewidth of 2\n",
    "plt.plot(x, y, '--', label='first line')\n",
    "\n",
    "# overplot a dotted line on the previous plot\n",
    "plt.plot(x, np.cos(x)*np.cos(x/2), '.', linewidth=3, label='other') \n",
    "\n",
    "x_axis_label = plt.xlabel('x axis') #change the label of the xaxis"
   ]
  },
  {
   "cell_type": "code",
   "execution_count": null,
   "metadata": {
    "collapsed": false
   },
   "outputs": [],
   "source": [
    "# change your mind about the label : you do not need to replot everything !\n",
    "plt.xlabel('another x axis')"
   ]
  },
  {
   "cell_type": "code",
   "execution_count": null,
   "metadata": {
    "collapsed": false
   },
   "outputs": [],
   "source": [
    "# or you can use the re-tuned object\n",
    "x_axis_label.set_text('changed it from the object itself')"
   ]
  },
  {
   "cell_type": "code",
   "execution_count": null,
   "metadata": {
    "collapsed": true
   },
   "outputs": [],
   "source": [
    "# simply add the legend (from the previous label)\n",
    "legend = plt.legend()        "
   ]
  },
  {
   "cell_type": "code",
   "execution_count": null,
   "metadata": {
    "collapsed": false
   },
   "outputs": [],
   "source": [
    "plt.savefig('plot.png') # save the current figure in png\n",
    "plt.savefig('plot.eps') # save the current figure in ps, no need to redo it !"
   ]
  },
  {
   "cell_type": "code",
   "execution_count": null,
   "metadata": {
    "collapsed": false
   },
   "outputs": [],
   "source": [
    "!ls"
   ]
  },
  {
   "cell_type": "markdown",
   "metadata": {},
   "source": [
    "## Proper use of Matplotlib (object oriented)"
   ]
  },
  {
   "cell_type": "markdown",
   "metadata": {},
   "source": [
    "We will use interactive plots inline in the notebook. This feature is enabled through:"
   ]
  },
  {
   "cell_type": "code",
   "execution_count": null,
   "metadata": {
    "collapsed": false
   },
   "outputs": [],
   "source": [
    "%matplotlib notebook"
   ]
  },
  {
   "cell_type": "code",
   "execution_count": null,
   "metadata": {
    "collapsed": false
   },
   "outputs": [],
   "source": [
    "import matplotlib.pyplot as plt\n",
    "import numpy as np\n",
    "\n",
    "# define a figure which can contains several plots, you can define resolution and so on here...\n",
    "fig2 = plt.figure()\n",
    "\n",
    "# add one axis, axes are actual plots where you can put data.fits (nx, ny, index)\n",
    "ax = fig2.add_subplot(1, 1, 1)"
   ]
  },
  {
   "cell_type": "markdown",
   "metadata": {},
   "source": [
    "Add a cruve with a title to the plot"
   ]
  },
  {
   "cell_type": "code",
   "execution_count": null,
   "metadata": {
    "collapsed": false
   },
   "outputs": [],
   "source": [
    "x = np.linspace(0, 2*np.pi)\n",
    "ax.plot(x, np.sin(x), '+')\n",
    "ax.set_title('this title')\n",
    "plt.show()"
   ]
  },
  {
   "cell_type": "code",
   "execution_count": null,
   "metadata": {
    "collapsed": false,
    "scrolled": false
   },
   "outputs": [],
   "source": [
    "# is a simpler syntax to add one axis into the figure (we will stick to this)\n",
    "fig, ax = plt.subplots()\n",
    "ax.plot(x, np.sin(x), '+')\n",
    "ax.set_title('simple subplot')"
   ]
  },
  {
   "cell_type": "markdown",
   "metadata": {},
   "source": [
    "A long list of markers can be found at http://matplotlib.org/api/markers_api.html\n",
    "as for the colors, there is a nice discussion at http://stackoverflow.com/questions/22408237/named-colors-in-matplotlib"
   ]
  },
  {
   "cell_type": "markdown",
   "metadata": {},
   "source": [
    "All the components of a figure can be accessed throught the 'Figure' object"
   ]
  },
  {
   "cell_type": "code",
   "execution_count": null,
   "metadata": {
    "collapsed": false
   },
   "outputs": [],
   "source": [
    "print(type(fig))"
   ]
  },
  {
   "cell_type": "code",
   "execution_count": null,
   "metadata": {
    "collapsed": false
   },
   "outputs": [],
   "source": [
    "print(dir(fig))"
   ]
  },
  {
   "cell_type": "code",
   "execution_count": null,
   "metadata": {
    "collapsed": false
   },
   "outputs": [],
   "source": [
    "print(fig.axes)"
   ]
  },
  {
   "cell_type": "code",
   "execution_count": null,
   "metadata": {
    "collapsed": false
   },
   "outputs": [],
   "source": [
    "print('This is the x-axis object', fig.axes[0].xaxis)\n",
    "print('And this is the y-axis object', fig.axes[0].yaxis)"
   ]
  },
  {
   "cell_type": "code",
   "execution_count": null,
   "metadata": {
    "collapsed": false
   },
   "outputs": [],
   "source": [
    "# arrow pointing to the origin of the axes\n",
    "ax_arrow = ax.annotate('ax = fig.axes[0]',\n",
    "                       xy=(0, -1),              # tip of the arrow\n",
    "                       xytext=(1, -0.5),         # location of the text\n",
    "                       arrowprops={'facecolor':'red', 'shrink':0.05})\n",
    "\n",
    "# arrow pointing to the x axis\n",
    "x_ax_arrow = ax.annotate('ax.xaxis',\n",
    "                         xy=(3, -1),              # tip of the arrow\n",
    "                         xytext=(3, -0.5),         # location of the text\n",
    "                         arrowprops={'facecolor':'red', 'shrink':0.05})\n",
    "xax = ax.xaxis\n",
    "\n",
    "# arrow pointing to the y axis\n",
    "y_ax_arrow = ax.annotate('ax.yaxis',\n",
    "                         xy=(0, 0),              # tip of the arrow\n",
    "                         xytext=(1, 0.5),         # location of the text\n",
    "                         arrowprops={'facecolor':'red', 'shrink':0.05})\n"
   ]
  },
  {
   "cell_type": "markdown",
   "metadata": {},
   "source": [
    "Add a labels to the x and y axes"
   ]
  },
  {
   "cell_type": "code",
   "execution_count": null,
   "metadata": {
    "collapsed": false
   },
   "outputs": [],
   "source": [
    "# add some ascii text label\n",
    "# this is equivelant to:\n",
    "#     ax.set_xlabel('x')\n",
    "xax.set_label_text('x')\n",
    "\n",
    "# add latex rendered text to the y axis\n",
    "ax.set_ylabel('$sin(x)$', size=20, color='g', rotation=0)"
   ]
  },
  {
   "cell_type": "markdown",
   "metadata": {},
   "source": [
    "Finally dump the figure to a png file"
   ]
  },
  {
   "cell_type": "code",
   "execution_count": null,
   "metadata": {
    "collapsed": false
   },
   "outputs": [],
   "source": [
    "fig.savefig('myplot.png')\n",
    "!ls\n",
    "!eog myplot.png"
   ]
  },
  {
   "cell_type": "markdown",
   "metadata": {},
   "source": [
    "Lets define a function that creates an empty base plot to which we will add\n",
    "stuff for each demonstration. The function returns the figure and the axes object."
   ]
  },
  {
   "cell_type": "code",
   "execution_count": null,
   "metadata": {
    "collapsed": true
   },
   "outputs": [],
   "source": [
    "def create_base_plot():\n",
    "    fig, ax = plt.subplots()\n",
    "    ax.set_title('sample figure')\n",
    "    return fig, ax"
   ]
  },
  {
   "cell_type": "markdown",
   "metadata": {},
   "source": [
    "## Log plots"
   ]
  },
  {
   "cell_type": "code",
   "execution_count": null,
   "metadata": {
    "collapsed": false
   },
   "outputs": [],
   "source": [
    "fig, ax = create_base_plot()\n",
    "\n",
    "# normal-xlog plots\n",
    "ax.semilogx(x, np.cos(x)*np.cos(x/2), 'r--.')"
   ]
  },
  {
   "cell_type": "code",
   "execution_count": null,
   "metadata": {
    "collapsed": false
   },
   "outputs": [],
   "source": [
    "# clear the plot and plot a function using the y axis in log scale\n",
    "ax.clear()\n",
    "ax.semilogy(x, np.exp(x))"
   ]
  },
  {
   "cell_type": "code",
   "execution_count": null,
   "metadata": {
    "collapsed": false
   },
   "outputs": [],
   "source": [
    "# you can (un)set it, whenever you want\n",
    "#ax.set_yscale('linear')   # change they y axis to linear scale\n",
    "#ax.set_yscale('log')      # change the y axis to log scale"
   ]
  },
  {
   "cell_type": "code",
   "execution_count": null,
   "metadata": {
    "collapsed": false
   },
   "outputs": [],
   "source": [
    "# you can also make loglog plots\n",
    "#ax.clear()\n",
    "#ax.loglog(x, np.exp(x)*np.sin(x))\n",
    "plt.setp(ax, **dict(yscale='log', xscale='log'))"
   ]
  },
  {
   "cell_type": "markdown",
   "metadata": {},
   "source": [
    "This is equivelant to:\n",
    "\n",
    "    ax.plot(x, np.exp(x)*np.sin(x))\n",
    "    plt.setp(ax, 'yscale', 'log', 'xscale', 'log')"
   ]
  },
  {
   "cell_type": "markdown",
   "metadata": {},
   "source": [
    "here we have introduced a new method of setting property values via **pyplot.setp**.\n",
    "\n",
    "setp takes as first argument a matplotlib object. Each pair of positional argument\n",
    "after that is treated as a key value pair for the set method name and its value. For\n",
    "example:\n",
    "\n",
    "   ax.set_scale('linear')\n",
    "   \n",
    "becomes\n",
    "\n",
    "   plt.setp(ax, 'scale', 'linear')\n",
    "   \n",
    "This is useful if you need to set lots of properties, such as:"
   ]
  },
  {
   "cell_type": "code",
   "execution_count": null,
   "metadata": {
    "collapsed": false
   },
   "outputs": [],
   "source": [
    "plt.setp(ax, 'xscale', 'linear', 'xlim', [1, 5], 'ylim', [0.1, 10], 'xlabel', 'x',\n",
    "         'ylabel', 'y', 'title', 'foo',\n",
    "         'xticks', [1, 2, 3, 4, 5],\n",
    "         'yticks', [0.1, 1, 10],\n",
    "         'yticklabels', ['low', 'medium', 'high'])"
   ]
  },
  {
   "cell_type": "markdown",
   "metadata": {},
   "source": [
    "## Histograms"
   ]
  },
  {
   "cell_type": "code",
   "execution_count": null,
   "metadata": {
    "collapsed": false
   },
   "outputs": [],
   "source": [
    "fig1, ax = create_base_plot()\n",
    "n, bins, patches = ax.hist(np.random.normal(0, 0.1, 10000), bins=50)"
   ]
  },
  {
   "cell_type": "markdown",
   "metadata": {},
   "source": [
    "## Subplots"
   ]
  },
  {
   "cell_type": "markdown",
   "metadata": {},
   "source": [
    "Making subplots is relatively easy. Just pass the shape of the grid of plots to plt.subplots() that was used in the above examples."
   ]
  },
  {
   "cell_type": "code",
   "execution_count": null,
   "metadata": {
    "collapsed": false
   },
   "outputs": [],
   "source": [
    "# Create one figure with two plots/axes, with their xaxis shared\n",
    "fig, (ax1, ax2) = plt.subplots(2, sharex=True)\n",
    "ax1.plot(x, np.sin(x), '-.', color='r', label='first line')\n",
    "other = ax2.plot(x, np.cos(x)*np.cos(x/2), 'o-', linewidth=3, label='other')\n",
    "ax1.legend()\n",
    "ax2.legend()"
   ]
  },
  {
   "cell_type": "code",
   "execution_count": null,
   "metadata": {
    "collapsed": false
   },
   "outputs": [],
   "source": [
    "# adjust the spacing between the axes\n",
    "fig.subplots_adjust(hspace=0.0)"
   ]
  },
  {
   "cell_type": "code",
   "execution_count": null,
   "metadata": {
    "collapsed": false
   },
   "outputs": [],
   "source": [
    "# add a scatter plot to the first axis\n",
    "ax1.scatter(x, np.sin(x)+np.random.normal(0, 0.1, np.size(x)))"
   ]
  },
  {
   "cell_type": "markdown",
   "metadata": {},
   "source": [
    "create a 3x3 grid of plots"
   ]
  },
  {
   "cell_type": "code",
   "execution_count": null,
   "metadata": {
    "collapsed": false
   },
   "outputs": [],
   "source": [
    "fig, axs = plt.subplots(3, 3)"
   ]
  },
  {
   "cell_type": "code",
   "execution_count": null,
   "metadata": {
    "collapsed": false
   },
   "outputs": [],
   "source": [
    "print(axs.shape)"
   ]
  },
  {
   "cell_type": "code",
   "execution_count": null,
   "metadata": {
    "collapsed": true
   },
   "outputs": [],
   "source": [
    "# add an index to all the subplots\n",
    "for ax_index, ax in enumerate(axs.flatten()):\n",
    "    ax.set_title(ax_index)"
   ]
  },
  {
   "cell_type": "code",
   "execution_count": null,
   "metadata": {
    "collapsed": false
   },
   "outputs": [],
   "source": [
    "# remove all ticks\n",
    "for ax in axs.flatten():\n",
    "    plt.setp(ax, 'xticks', [], 'yticks', [])"
   ]
  },
  {
   "cell_type": "code",
   "execution_count": null,
   "metadata": {
    "collapsed": false
   },
   "outputs": [],
   "source": [
    "fig.subplots_adjust(hspace=0, wspace=0)"
   ]
  },
  {
   "cell_type": "code",
   "execution_count": null,
   "metadata": {
    "collapsed": false
   },
   "outputs": [],
   "source": [
    "# plot a curve in the diagonal subplots\n",
    "for ax, func in zip(axs.diagonal(), [np.sin, np.cos, np.exp]):\n",
    "    ax.plot(x, func(x))"
   ]
  },
  {
   "cell_type": "markdown",
   "metadata": {},
   "source": [
    "## Images and contours"
   ]
  },
  {
   "cell_type": "code",
   "execution_count": null,
   "metadata": {
    "collapsed": false
   },
   "outputs": [],
   "source": [
    "xx, yy = np.mgrid[-2:2:100j, -2:2:100j]\n",
    "img = np.sin(xx) + np.cos(yy)"
   ]
  },
  {
   "cell_type": "code",
   "execution_count": null,
   "metadata": {
    "collapsed": false
   },
   "outputs": [],
   "source": [
    "fig, ax = create_base_plot()"
   ]
  },
  {
   "cell_type": "code",
   "execution_count": null,
   "metadata": {
    "collapsed": true
   },
   "outputs": [],
   "source": [
    "# to have 0,0 in the lower left corner and no interpolation\n",
    "img_plot = ax.imshow(img, origin='lower', interpolation='None')\n",
    "# to add a grid to any axis\n",
    "ax.grid()                                "
   ]
  },
  {
   "cell_type": "code",
   "execution_count": null,
   "metadata": {
    "collapsed": false
   },
   "outputs": [],
   "source": [
    "img_plot.set_cmap('hot')  # changing the colormap"
   ]
  },
  {
   "cell_type": "code",
   "execution_count": null,
   "metadata": {
    "collapsed": false
   },
   "outputs": [],
   "source": [
    "img_plot.set_cmap('spectral')      # changing the colormap\n",
    "colorb = fig.colorbar(img_plot)    # adding a color bar"
   ]
  },
  {
   "cell_type": "code",
   "execution_count": null,
   "metadata": {
    "collapsed": false
   },
   "outputs": [],
   "source": [
    "img_plot.set_clim(-0.5, 0.5)        # changing the dynamical range"
   ]
  },
  {
   "cell_type": "code",
   "execution_count": null,
   "metadata": {
    "collapsed": false
   },
   "outputs": [],
   "source": [
    "# add contour levels\n",
    "img_contours = ax.contour(img, [-1, -0.5, 0.0, 0.5])\n",
    "plt.clabel(img_contours, inline=True, fontsize=20)"
   ]
  },
  {
   "cell_type": "markdown",
   "metadata": {},
   "source": [
    "## Animation"
   ]
  },
  {
   "cell_type": "code",
   "execution_count": null,
   "metadata": {
    "collapsed": false
   },
   "outputs": [],
   "source": [
    "from IPython.display import HTML\n",
    "import matplotlib.animation as animation\n",
    "\n",
    "def f(x, y):\n",
    "    return np.sin(x) + np.cos(y)\n",
    "\n",
    "fig, ax = create_base_plot()\n",
    "im = ax.imshow(f(xx, yy), cmap=plt.get_cmap('viridis'))\n",
    "\n",
    "def updatefig(*args):\n",
    "    global xx, yy\n",
    "    xx += np.pi / 15.\n",
    "    yy += np.pi / 20.\n",
    "    im.set_array(f(xx, yy))\n",
    "    return im,\n",
    "\n",
    "ani = animation.FuncAnimation(fig, updatefig, interval=50, blit=True)\n",
    "_ = ani.to_html5_video()"
   ]
  },
  {
   "cell_type": "code",
   "execution_count": null,
   "metadata": {
    "collapsed": false
   },
   "outputs": [],
   "source": [
    "# change title during animation!!\n",
    "ax.set_title('runtime title')"
   ]
  },
  {
   "cell_type": "markdown",
   "metadata": {},
   "source": [
    "## Styles"
   ]
  },
  {
   "cell_type": "markdown",
   "metadata": {},
   "source": [
    "## Seaborn"
   ]
  },
  {
   "cell_type": "markdown",
   "metadata": {},
   "source": [
    "## D3"
   ]
  },
  {
   "cell_type": "markdown",
   "metadata": {},
   "source": [
    "## Other honerable mentions\n",
    "   \n",
    "   - Mayavi: http://code.enthought.com/projects/mayavi/\n",
    "   - plotly: https://plot.ly/\n",
    "   - bokeh: http://bokeh.pydata.org/en/latest/\n",
    "   - pygal: http://www.pygal.org/en/latest/"
   ]
  }
 ],
 "metadata": {
  "kernelspec": {
   "display_name": "Python 3",
   "language": "python",
   "name": "python3"
  },
  "language_info": {
   "codemirror_mode": {
    "name": "ipython",
    "version": 3
   },
   "file_extension": ".py",
   "mimetype": "text/x-python",
   "name": "python",
   "nbconvert_exporter": "python",
   "pygments_lexer": "ipython3",
   "version": "3.5.0"
  }
 },
 "nbformat": 4,
 "nbformat_minor": 0
}
