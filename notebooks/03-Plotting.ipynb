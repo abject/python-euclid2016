{
 "cells": [
  {
   "cell_type": "markdown",
   "metadata": {},
   "source": [
    "# Plotting\n",
    "\n",
    "There are several plotting modules in python. Matplolib is the most complete/versatile package for all 2D plotting. The easiest way to construct a new plot is to have a look at http://matplotlib.org/gallery.html and get inspiration from the available examples. The official documentation can be found at: http://matplotlib.org/contents.html"
   ]
  },
  {
   "cell_type": "markdown",
   "metadata": {},
   "source": [
    "## Quick plots, or Matplotlib dirty usage"
   ]
  },
  {
   "cell_type": "code",
   "execution_count": null,
   "metadata": {
    "collapsed": false
   },
   "outputs": [],
   "source": [
    "%matplotlib\n",
    "\n",
    "import numpy as np\n",
    "import matplotlib.pyplot as plt\n",
    "\n",
    "# To get interactive plotting (otherwise you need to \n",
    "# type plt.show() at the end of the plotting commands)\n",
    "plt.ion() \n",
    "\n",
    "x = np.linspace(0, 10)\n",
    "y = np.sin(x)\n",
    "\n",
    "# basic X/Y line plotting with '--' dashed line and linewidth of 2\n",
    "plt.plot(x, y, '--', label='first line')\n",
    "\n",
    "# overplot a dotted line on the previous plot\n",
    "plt.plot(x, np.cos(x)*np.cos(x/2), '.', linewidth=3, label='other') \n",
    "\n",
    "x_axis_label = plt.xlabel('x axis') #change the label of the xaxis"
   ]
  },
  {
   "cell_type": "code",
   "execution_count": null,
   "metadata": {
    "collapsed": false
   },
   "outputs": [],
   "source": [
    "# change your mind about the label : you do not need to replot everything !\n",
    "plt.xlabel('another x axis')"
   ]
  },
  {
   "cell_type": "code",
   "execution_count": null,
   "metadata": {
    "collapsed": false
   },
   "outputs": [],
   "source": [
    "# or you can use the re-tuned object\n",
    "x_axis_label.set_text('changed it from the object itself')"
   ]
  },
  {
   "cell_type": "code",
   "execution_count": null,
   "metadata": {
    "collapsed": true
   },
   "outputs": [],
   "source": [
    "# simply add the legend (from the previous label)\n",
    "legend = plt.legend()        "
   ]
  },
  {
   "cell_type": "code",
   "execution_count": null,
   "metadata": {
    "collapsed": false
   },
   "outputs": [],
   "source": [
    "plt.savefig('plot.png') # save the current figure in png\n",
    "plt.savefig('plot.eps') # save the current figure in ps, no need to redo it !"
   ]
  },
  {
   "cell_type": "code",
   "execution_count": null,
   "metadata": {
    "collapsed": false
   },
   "outputs": [],
   "source": [
    "!ls"
   ]
  },
  {
   "cell_type": "markdown",
   "metadata": {},
   "source": [
    "## Proper use of Matplotlib (object oriented)"
   ]
  },
  {
   "cell_type": "markdown",
   "metadata": {},
   "source": [
    "We will use interactive plots inline in the notebook. This feature is enabled through:"
   ]
  },
  {
   "cell_type": "code",
   "execution_count": null,
   "metadata": {
    "collapsed": false
   },
   "outputs": [],
   "source": [
    "%matplotlib notebook"
   ]
  },
  {
   "cell_type": "code",
   "execution_count": null,
   "metadata": {
    "collapsed": false
   },
   "outputs": [],
   "source": [
    "import matplotlib.pyplot as plt\n",
    "import numpy as np\n",
    "\n",
    "# define a figure which can contains several plots, you can define resolution and so on here...\n",
    "fig2 = plt.figure()\n",
    "\n",
    "# add one axis, axes are actual plots where you can put data.fits (nx, ny, index)\n",
    "ax = fig2.add_subplot(1, 1, 1)"
   ]
  },
  {
   "cell_type": "markdown",
   "metadata": {},
   "source": [
    "Add a cruve with a title to the plot"
   ]
  },
  {
   "cell_type": "code",
   "execution_count": null,
   "metadata": {
    "collapsed": false
   },
   "outputs": [],
   "source": [
    "x = np.linspace(0, 2*np.pi)\n",
    "ax.plot(x, np.sin(x), '+')\n",
    "ax.set_title('this title')\n",
    "plt.show()"
   ]
  },
  {
   "cell_type": "code",
   "execution_count": null,
   "metadata": {
    "collapsed": false
   },
   "outputs": [],
   "source": [
    "# is a simpler syntax to add one axis into the figure (we will stick to this)\n",
    "fig, ax = plt.subplots()\n",
    "ax.plot(x, np.sin(x), '+')\n",
    "ax.set_title('simple subplot')"
   ]
  },
  {
   "cell_type": "markdown",
   "metadata": {},
   "source": [
    "All the components of a figure can be accessed throught the 'Figure' object"
   ]
  },
  {
   "cell_type": "code",
   "execution_count": null,
   "metadata": {
    "collapsed": false
   },
   "outputs": [],
   "source": [
    "print(type(fig))"
   ]
  },
  {
   "cell_type": "code",
   "execution_count": null,
   "metadata": {
    "collapsed": false
   },
   "outputs": [],
   "source": [
    "print(dir(fig))"
   ]
  },
  {
   "cell_type": "code",
   "execution_count": null,
   "metadata": {
    "collapsed": false
   },
   "outputs": [],
   "source": [
    "print(fig.axes)"
   ]
  },
  {
   "cell_type": "code",
   "execution_count": null,
   "metadata": {
    "collapsed": false
   },
   "outputs": [],
   "source": [
    "print('This is the x-axis object', fig.axes[0].xaxis)\n",
    "print('And this is the y-axis object', fig.axes[0].yaxis)"
   ]
  },
  {
   "cell_type": "code",
   "execution_count": null,
   "metadata": {
    "collapsed": false
   },
   "outputs": [],
   "source": [
    "# arrow pointing to the origin of the axes\n",
    "ax_arrow = ax.annotate('ax = fig.axes[0]',\n",
    "                       xy=(0, -1),              # tip of the arrow\n",
    "                       xytext=(1, -0.5),         # location of the text\n",
    "                       arrowprops={'facecolor':'red', 'shrink':0.05})\n",
    "\n",
    "# arrow pointing to the x axis\n",
    "x_ax_arrow = ax.annotate('ax.xaxis',\n",
    "                         xy=(3, -1),              # tip of the arrow\n",
    "                         xytext=(3, -0.5),         # location of the text\n",
    "                         arrowprops={'facecolor':'red', 'shrink':0.05})\n",
    "xax = ax.xaxis\n",
    "\n",
    "# arrow pointing to the y axis\n",
    "y_ax_arrow = ax.annotate('ax.yaxis',\n",
    "                         xy=(0, 0),              # tip of the arrow\n",
    "                         xytext=(1, 0.5),         # location of the text\n",
    "                         arrowprops={'facecolor':'red', 'shrink':0.05})\n"
   ]
  },
  {
   "cell_type": "markdown",
   "metadata": {},
   "source": [
    "Add a labels to the x and y axes"
   ]
  },
  {
   "cell_type": "code",
   "execution_count": null,
   "metadata": {
    "collapsed": false
   },
   "outputs": [],
   "source": [
    "# add some ascii text label\n",
    "# this is equivelant to:\n",
    "#     ax.set_xlabel('x')\n",
    "xax.set_label_text('x')\n",
    "\n",
    "# add latex rendered text to the y axis\n",
    "ax.set_ylabel('$sin(x)$', size=20, color='g', rotation=0)"
   ]
  },
  {
   "cell_type": "markdown",
   "metadata": {},
   "source": [
    "Finally dump the figure to a png file"
   ]
  },
  {
   "cell_type": "code",
   "execution_count": null,
   "metadata": {
    "collapsed": false
   },
   "outputs": [],
   "source": [
    "fig.savefig('myplot.png')\n",
    "!ls\n",
    "!eog myplot.png"
   ]
  },
  {
   "cell_type": "markdown",
   "metadata": {},
   "source": [
    "## Log plots"
   ]
  },
  {
   "cell_type": "code",
   "execution_count": null,
   "metadata": {
    "collapsed": true
   },
   "outputs": [],
   "source": [
    "plt.close('all')\n",
    "fig1, (ax1, ax2) = plt.subplots(2)\n",
    "ax1.semilogx(x, np.cos(x)*np.cos(x/2))   # normal-xlog plots\n",
    "ax2.loglog(x,abs(np.cos(x)*np.cos(x/2))) # log log plots"
   ]
  },
  {
   "cell_type": "code",
   "execution_count": null,
   "metadata": {
    "collapsed": true
   },
   "outputs": [],
   "source": [
    "ax1.set_yscale('log')                    # you can (un)set it, whenever you want\n",
    "ax2.set_xscale('linear')\n",
    "plt.show()"
   ]
  },
  {
   "cell_type": "markdown",
   "metadata": {},
   "source": [
    "## Subplots"
   ]
  },
  {
   "cell_type": "code",
   "execution_count": null,
   "metadata": {
    "collapsed": false
   },
   "outputs": [],
   "source": [
    "\n",
    "fig1, (ax1, ax2) = plt.subplots(2, sharex=True) # Create one figure with two plots/axes, with their xaxis shared\n",
    "ax1.plot(x, np.sin(x), '-.',color='r', label='first line')\n",
    "other = ax2.plot(x, np.cos(x)*np.cos(x/2),'o-',linewidth=3, label='other')\n",
    "ax1.legend()\n",
    "ax2.legend()"
   ]
  },
  {
   "cell_type": "code",
   "execution_count": null,
   "metadata": {
    "collapsed": false
   },
   "outputs": [],
   "source": [
    "plt.setp(other, color='g')     # Change the color property for the other line...\n",
    "fig1.subplots_adjust(hspace=0) # Compactify the figure\n",
    "plt.show()                     # Refresh"
   ]
  },
  {
   "cell_type": "code",
   "execution_count": null,
   "metadata": {
    "collapsed": false
   },
   "outputs": [],
   "source": [
    "ax1.scatter(x, np.sin(x)+np.random.normal(0, 0.1, np.size(x))) # add a scatter plot to the first axis\n",
    "plt.show()"
   ]
  },
  {
   "cell_type": "markdown",
   "metadata": {},
   "source": [
    "## Histograms"
   ]
  },
  {
   "cell_type": "code",
   "execution_count": null,
   "metadata": {
    "collapsed": false
   },
   "outputs": [],
   "source": [
    "plt.close(fig1)"
   ]
  },
  {
   "cell_type": "code",
   "execution_count": null,
   "metadata": {
    "collapsed": false
   },
   "outputs": [],
   "source": [
    "fig1, ax = plt.subplots()\n",
    "x = np.random.normal(0, 0.1, 10000)\n",
    "n, bins, patches = ax.hist(x, bins=50)"
   ]
  },
  {
   "cell_type": "markdown",
   "metadata": {},
   "source": [
    "## Images and contours"
   ]
  },
  {
   "cell_type": "code",
   "execution_count": null,
   "metadata": {
    "collapsed": false
   },
   "outputs": [],
   "source": [
    "img = np.random.normal(0,0.1, 256*256).reshape(256,256)"
   ]
  },
  {
   "cell_type": "code",
   "execution_count": null,
   "metadata": {
    "collapsed": false
   },
   "outputs": [],
   "source": [
    "plt.close('all')\n",
    "fig1, ax = plt.subplots()\n",
    "imgplot = ax.imshow(img, origin='lower', interpolation='None') # to have 0,0 in the lower left corner and no interpolation\n",
    "ax.grid()                                # to add a grid to any axis"
   ]
  },
  {
   "cell_type": "code",
   "execution_count": null,
   "metadata": {
    "collapsed": false
   },
   "outputs": [],
   "source": [
    "imgplot.set_cmap('hot')                # changing the colormap\n",
    "plt.show()"
   ]
  },
  {
   "cell_type": "code",
   "execution_count": null,
   "metadata": {
    "collapsed": false
   },
   "outputs": [],
   "source": [
    "imgplot.set_cmap('spectral')            # changing the colormap\n",
    "colorb = fig1.colorbar(imgplot)         # adding a color bar\n",
    "plt.show()"
   ]
  },
  {
   "cell_type": "code",
   "execution_count": null,
   "metadata": {
    "collapsed": false
   },
   "outputs": [],
   "source": [
    "imgplot.set_clim(-0.5, 0.5)            # changing the dynamical range\n",
    "plt.show()"
   ]
  },
  {
   "cell_type": "markdown",
   "metadata": {},
   "source": [
    "## Animation"
   ]
  },
  {
   "cell_type": "markdown",
   "metadata": {},
   "source": [
    "## Styles"
   ]
  },
  {
   "cell_type": "markdown",
   "metadata": {},
   "source": [
    "## Seaborn"
   ]
  },
  {
   "cell_type": "markdown",
   "metadata": {},
   "source": [
    "## D3"
   ]
  },
  {
   "cell_type": "markdown",
   "metadata": {},
   "source": [
    "## Other honerable mentions\n",
    "   \n",
    "   - Mayavi: http://code.enthought.com/projects/mayavi/\n",
    "   - plotly: https://plot.ly/\n",
    "   - bokeh: http://bokeh.pydata.org/en/latest/\n",
    "   - pygal: http://www.pygal.org/en/latest/"
   ]
  }
 ],
 "metadata": {
  "kernelspec": {
   "display_name": "Python 3",
   "language": "python",
   "name": "python3"
  },
  "language_info": {
   "codemirror_mode": {
    "name": "ipython",
    "version": 3
   },
   "file_extension": ".py",
   "mimetype": "text/x-python",
   "name": "python",
   "nbconvert_exporter": "python",
   "pygments_lexer": "ipython3",
   "version": "3.5.1"
  }
 },
 "nbformat": 4,
 "nbformat_minor": 0
}
